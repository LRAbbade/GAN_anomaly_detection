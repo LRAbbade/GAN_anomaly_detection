{
 "cells": [
  {
   "cell_type": "code",
   "execution_count": 9,
   "id": "b30c47c8-c024-41a5-bffd-0b51cda10052",
   "metadata": {},
   "outputs": [],
   "source": [
    "import os\n",
    "import random\n",
    "import pandas as pd"
   ]
  },
  {
   "cell_type": "code",
   "execution_count": 4,
   "id": "39fc8201-69d8-4f1d-bac0-ac5248d3fa2b",
   "metadata": {},
   "outputs": [],
   "source": [
    "shuffled_folder = 'dataset/shuffled/'\n",
    "shuffled_files = [shuffled_folder + file for file in os.listdir(shuffled_folder)]"
   ]
  },
  {
   "cell_type": "code",
   "execution_count": 10,
   "id": "09aa3b4a-a914-456c-b11a-8c6ee31fe4c4",
   "metadata": {},
   "outputs": [],
   "source": [
    "random.shuffle(shuffled_files)"
   ]
  },
  {
   "cell_type": "code",
   "execution_count": 12,
   "id": "aa663ddb-fb67-426e-b7a6-7ca6b5a7536b",
   "metadata": {},
   "outputs": [],
   "source": [
    "num_files = len(shuffled_files)\n",
    "training_cut = round(0.4 * num_files)\n",
    "cross_cut = round(0.7 * num_files)"
   ]
  },
  {
   "cell_type": "code",
   "execution_count": 16,
   "id": "26e8e4f7-bb86-40a7-b1e6-083f8e1cfcdc",
   "metadata": {},
   "outputs": [],
   "source": [
    "training_files = shuffled_files[:training_cut]\n",
    "cross_validation_files = shuffled_files[training_cut:cross_cut]\n",
    "test_files = shuffled_files[cross_cut:]"
   ]
  },
  {
   "cell_type": "code",
   "execution_count": null,
   "id": "4bff59fd-6e12-43f5-aab9-b69262115918",
   "metadata": {},
   "outputs": [],
   "source": []
  }
 ],
 "metadata": {
  "kernelspec": {
   "display_name": "Python 3",
   "language": "python",
   "name": "python3"
  },
  "language_info": {
   "codemirror_mode": {
    "name": "ipython",
    "version": 3
   },
   "file_extension": ".py",
   "mimetype": "text/x-python",
   "name": "python",
   "nbconvert_exporter": "python",
   "pygments_lexer": "ipython3",
   "version": "3.8.8"
  }
 },
 "nbformat": 4,
 "nbformat_minor": 5
}
